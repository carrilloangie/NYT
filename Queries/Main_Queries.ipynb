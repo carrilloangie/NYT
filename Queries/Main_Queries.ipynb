{
 "cells": [
  {
   "cell_type": "code",
   "execution_count": 1,
   "metadata": {},
   "outputs": [
    {
     "name": "stdout",
     "output_type": "stream",
     "text": [
      "All imports: DONE\n"
     ]
    },
    {
     "name": "stderr",
     "output_type": "stream",
     "text": [
      "  0% (2 of 1855658) |              | Elapsed Time: 0:00:00 ETA:  1 day, 5:52:18"
     ]
    },
    {
     "name": "stdout",
     "output_type": "stream",
     "text": [
      "Path generation: DONE\n"
     ]
    },
    {
     "name": "stderr",
     "output_type": "stream",
     "text": [
      "100% (1855658 of 1855658) |#############| Elapsed Time: 22:50:31 Time: 22:50:31\n",
      "  0% (9681 of 3711316) |                 | Elapsed Time: 0:00:00 ETA:  00:00:00"
     ]
    },
    {
     "name": "stdout",
     "output_type": "stream",
     "text": [
      "Extraction: DONE\n"
     ]
    },
    {
     "name": "stderr",
     "output_type": "stream",
     "text": [
      "100% (3711316 of 3711316) |##############| Elapsed Time: 0:00:34 Time:  0:00:34\n"
     ]
    },
    {
     "name": "stdout",
     "output_type": "stream",
     "text": [
      "Delete empty rows: DONE\n"
     ]
    },
    {
     "ename": "TypeError",
     "evalue": "'<' not supported between instances of 'NoneType' and 'str'",
     "output_type": "error",
     "traceback": [
      "\u001b[1;31m---------------------------------------------------------------------------\u001b[0m",
      "\u001b[1;31mTypeError\u001b[0m                                 Traceback (most recent call last)",
      "\u001b[1;32m<ipython-input-1-87946ac79c17>\u001b[0m in \u001b[0;36m<module>\u001b[1;34m()\u001b[0m\n\u001b[0;32m     18\u001b[0m \u001b[1;33m\u001b[0m\u001b[0m\n\u001b[0;32m     19\u001b[0m \u001b[1;31m###Remove duplicates\u001b[0m\u001b[1;33m\u001b[0m\u001b[1;33m\u001b[0m\u001b[0m\n\u001b[1;32m---> 20\u001b[1;33m \u001b[0mke_w\u001b[0m\u001b[1;33m=\u001b[0m\u001b[0mRemove_Dups\u001b[0m\u001b[1;33m(\u001b[0m\u001b[0mk_w\u001b[0m\u001b[1;33m)\u001b[0m\u001b[1;33m\u001b[0m\u001b[0m\n\u001b[0m\u001b[0;32m     21\u001b[0m \u001b[0mprint\u001b[0m\u001b[1;33m(\u001b[0m\u001b[1;34m\"Remove duplicates: DONE\"\u001b[0m\u001b[1;33m)\u001b[0m\u001b[1;33m\u001b[0m\u001b[0m\n\u001b[0;32m     22\u001b[0m \u001b[1;33m\u001b[0m\u001b[0m\n",
      "\u001b[1;32m~\\Documents\\NYU\\NYT-Corpus\\Queries.py\u001b[0m in \u001b[0;36mRemove_Dups\u001b[1;34m(n_kw)\u001b[0m\n\u001b[0;32m    102\u001b[0m \u001b[1;32mdef\u001b[0m \u001b[0mRemove_Dups\u001b[0m\u001b[1;33m(\u001b[0m\u001b[0mn_kw\u001b[0m\u001b[1;33m)\u001b[0m\u001b[1;33m:\u001b[0m\u001b[1;33m\u001b[0m\u001b[0m\n\u001b[0;32m    103\u001b[0m     \u001b[0mpbar\u001b[0m\u001b[1;33m=\u001b[0m\u001b[0mProgressBar\u001b[0m\u001b[1;33m(\u001b[0m\u001b[1;33m)\u001b[0m\u001b[1;33m\u001b[0m\u001b[0m\n\u001b[1;32m--> 104\u001b[1;33m     \u001b[0mn_kw\u001b[0m\u001b[1;33m.\u001b[0m\u001b[0msort\u001b[0m\u001b[1;33m(\u001b[0m\u001b[1;33m)\u001b[0m\u001b[1;33m\u001b[0m\u001b[0m\n\u001b[0m\u001b[0;32m    105\u001b[0m     \u001b[0mb_n_kw\u001b[0m\u001b[1;33m=\u001b[0m\u001b[0mlist\u001b[0m\u001b[1;33m(\u001b[0m\u001b[0mn_kw\u001b[0m \u001b[1;32mfor\u001b[0m \u001b[0mn_kw\u001b[0m\u001b[1;33m,\u001b[0m\u001b[0m_\u001b[0m \u001b[1;32min\u001b[0m \u001b[0mitertools\u001b[0m\u001b[1;33m.\u001b[0m\u001b[0mgroupby\u001b[0m\u001b[1;33m(\u001b[0m\u001b[0mpbar\u001b[0m\u001b[1;33m(\u001b[0m\u001b[0mn_kw\u001b[0m\u001b[1;33m)\u001b[0m\u001b[1;33m)\u001b[0m\u001b[1;33m)\u001b[0m\u001b[1;33m\u001b[0m\u001b[0m\n\u001b[0;32m    106\u001b[0m     \u001b[1;32mreturn\u001b[0m \u001b[0mb_n_kw\u001b[0m\u001b[1;33m\u001b[0m\u001b[0m\n",
      "\u001b[1;31mTypeError\u001b[0m: '<' not supported between instances of 'NoneType' and 'str'"
     ]
    }
   ],
   "source": [
    "import Queries as q\n",
    "from Queries import *\n",
    "\n",
    "print(\"All imports: DONE\")\n",
    "\n",
    "###Generate a list with all the paths of the documents\n",
    "path =\"./data/\"\n",
    "allArticles=q.GetPaths(path)\n",
    "print(\"Path generation: DONE\")\n",
    "\n",
    "###Extract body and title for each document\n",
    "key_words=q.Extraction(allArticles)\n",
    "print(\"Extraction: DONE\")\n",
    "\n",
    "###Delete empty data\n",
    "k_w=q.Delete_empty(key_words)\n",
    "print(\"Delete empty rows: DONE\")\n",
    "\n",
    "###Remove duplicates\n",
    "ke_w=Remove_Dups(k_w)\n",
    "print(\"Remove duplicates: DONE\")\n",
    "\n",
    "###Tokenize the body\n",
    "tokens=q.Tokenize(ke_w)\n",
    "print(\"Tokenization: DONE\")\n",
    "\n",
    "###Normalize the body\n",
    "normal=q.Normalize(tokens)\n",
    "print(\"Normalization: DONE\")\n",
    "\n",
    "###Remove stopwords from the body\n",
    "noSW=q.removeSW(normal)\n",
    "print(\"Stopwords removal: DONE\")\n",
    "\n",
    "###Save the queries\n",
    "BodyName=\"Queries.bin\"\n",
    "q.SaveBinary(noSW)\n",
    "\n",
    "###Save CSV\n",
    "name=final_queries.csv\n",
    "q.saveCSV(noSW,name)"
   ]
  },
  {
   "cell_type": "code",
   "execution_count": 5,
   "metadata": {},
   "outputs": [],
   "source": [
    "###Save CSV\n",
    "name=\"final_queries.csv\"\n",
    "q.saveCSV(k_w,name)\n",
    "\n"
   ]
  },
  {
   "cell_type": "code",
   "execution_count": null,
   "metadata": {},
   "outputs": [],
   "source": [
    "###Tokenize the body\n",
    "tokens=q.Tokenize(ke_w)\n",
    "print(\"Tokenization: DONE\")\n",
    "\n",
    "###Normalize the body\n",
    "normal=q.Normalize(tokens)\n",
    "print(\"Normalization: DONE\")\n",
    "\n",
    "###Remove stopwords from the body\n",
    "noSW=q.removeSW(normal)\n",
    "print(\"Stopwords removal: DONE\")\n",
    "\n",
    "###Save the queries\n",
    "BodyName=\"Queries.bin\"\n",
    "q.SaveBinary(noSW)\n",
    "\n",
    "###Save CSV\n",
    "name=final_queries.csv\n",
    "q.saveCSV(noSW,name)"
   ]
  }
 ],
 "metadata": {
  "kernelspec": {
   "display_name": "Python 3",
   "language": "python",
   "name": "python3"
  },
  "language_info": {
   "codemirror_mode": {
    "name": "ipython",
    "version": 3
   },
   "file_extension": ".py",
   "mimetype": "text/x-python",
   "name": "python",
   "nbconvert_exporter": "python",
   "pygments_lexer": "ipython3",
   "version": "3.6.4"
  }
 },
 "nbformat": 4,
 "nbformat_minor": 2
}
