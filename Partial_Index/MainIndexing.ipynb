{
 "cells": [
  {
   "cell_type": "code",
   "execution_count": null,
   "metadata": {},
   "outputs": [],
   "source": [
    "###All the imports\n",
    "import PartIdx as P\n",
    "from PartIdx import *\n",
    "\n",
    "print(\"All imports: DONE\")\n",
    "\n",
    "###How much to be indexed:\n",
    "IndexPercentage=[0.25,0.5,0.75,1]\n",
    "\n",
    "###Retrieve Queries\n",
    "pathQueries=\"../Queries/Queries.bin\"\n",
    "Queries=P.Retrieve(pathQueries)\n",
    "\n",
    "###Retrieve Lexicon\n",
    "pathLex=\"../Documents/Lex.bin\"\n",
    "Lex=P.Retrieve(pathLex)\n",
    "\n",
    "###Retrieve Frequencies\n",
    "pathFreq=\"../Documents/Freq.bin\"\n",
    "Freq=P.Retrieve(pathFreq)\n",
    "\n",
    "###Order by selectivity the terms of the query\n",
    "OrderedQueries=P.Selectivity(Queries,Lex,Freq)\n",
    "\n",
    "###Index just the percentage indicated above\n",
    "IndexedQ=P.PartialIndex(Lex,Selectivity,IndexPercentage)\n",
    "\n",
    "###Match\n",
    "Result=P.Match(Document)"
   ]
  }
 ],
 "metadata": {
  "kernelspec": {
   "display_name": "Python 3",
   "language": "python",
   "name": "python3"
  },
  "language_info": {
   "codemirror_mode": {
    "name": "ipython",
    "version": 3
   },
   "file_extension": ".py",
   "mimetype": "text/x-python",
   "name": "python",
   "nbconvert_exporter": "python",
   "pygments_lexer": "ipython3",
   "version": "3.6.4"
  }
 },
 "nbformat": 4,
 "nbformat_minor": 2
}
